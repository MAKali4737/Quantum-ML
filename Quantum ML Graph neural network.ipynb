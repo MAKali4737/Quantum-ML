{
 "cells": [
  {
   "cell_type": "markdown",
   "metadata": {},
   "source": [
    "{{ badge }}"
   ]
  },
  {
   "cell_type": "code",
   "execution_count": 22,
   "metadata": {},
   "outputs": [],
   "source": [
    "import pennylane as qml\n",
    "from matplotlib import pyplot as plt\n",
    "import numpy as np\n",
    "import scipy\n",
    "import networkx as nx\n",
    "import copy"
   ]
  },
  {
   "cell_type": "code",
   "execution_count": 28,
   "metadata": {},
   "outputs": [],
   "source": [
    "qubit_number = 4\n",
    "qubits = range(qubit_number)"
   ]
  },
  {
   "cell_type": "code",
   "execution_count": 29,
   "metadata": {},
   "outputs": [
    {
     "name": "stdout",
     "output_type": "stream",
     "text": [
      "Edges: [(0, 1), (0, 3), (1, 2), (2, 3)]\n"
     ]
    },
    {
     "data": {
      "image/png": "[encoded data removed]",
      "text/plain": [
       "<Figure size 432x288 with 1 Axes>"
      ]
     },
     "metadata": {},
     "output_type": "display_data"
    }
   ],
   "source": [
    "ising_graph = nx.cycle_graph(qubit_number)\n",
    "\n",
    "print(f\"Edges: {ising_graph.edges}\")\n",
    "nx.draw(ising_graph)"
   ]
  },
  {
   "cell_type": "code",
   "execution_count": 30,
   "metadata": {},
   "outputs": [],
   "source": [
    "matrix_params = [[0.56, 1.24, 1.67, -0.79], [-1.44, -1.43, 1.18, -0.93, ]]"
   ]
  },
  {
   "cell_type": "code",
   "execution_count": 31,
   "metadata": {},
   "outputs": [
    {
     "data": {
      "image/png": "[encoded data removed]",
      "text/plain": [
       "<Figure size 288x288 with 1 Axes>"
      ]
     },
     "metadata": {
      "needs_background": "light"
     },
     "output_type": "display_data"
    }
   ],
   "source": [
    "def create_hamiltonian_matrix(n, graph, params):\n",
    "\n",
    "    matrix = np.zeros((2 ** n, 2 ** n))\n",
    "\n",
    "    # Creates the interaction component of the Hamiltonian\n",
    "    for count, i in enumerate(graph.edges):\n",
    "        m = 1\n",
    "        for j in range(0, n):\n",
    "            if i[0] == j or i[1] == j:\n",
    "                m = np.kron(m, qml.PauliZ.matrix)\n",
    "            else:\n",
    "                m = np.kron(m, np.identity(2))\n",
    "        matrix += params[0][count] * m\n",
    "\n",
    "    # Creates the bias components of the matrix\n",
    "    for i in range(0, n):\n",
    "        m1 = m2 = 1\n",
    "        for j in range(0, n):\n",
    "            if j == i:\n",
    "                m1 = np.kron(m1, qml.PauliZ.matrix)\n",
    "                m2 = np.kron(m2, qml.PauliX.matrix)\n",
    "            else:\n",
    "                m1 = np.kron(m1, np.identity(2))\n",
    "                m2 = np.kron(m2, np.identity(2))\n",
    "        matrix += (params[1][i] * m1 + m2)\n",
    "\n",
    "    return matrix\n",
    "\n",
    "# Prints a visual representation of the Hamiltonian matrix\n",
    "ham_matrix = create_hamiltonian_matrix(qubit_number, ising_graph, matrix_params)\n",
    "plt.matshow(ham_matrix, cmap='hot')\n",
    "plt.show()"
   ]
  },
  {
   "cell_type": "code",
   "execution_count": 32,
   "metadata": {},
   "outputs": [],
   "source": [
    "# The collection of quantum data needed to run the QGRNN has two components: \n",
    "#   (i) copies of a low-energy state, and \n",
    "#   (ii) a collection of time-evolved states, each of which are simply the low-energy state evolved to different times. \n",
    "#   The following is a low-energy state of the target Hamiltonian\n",
    "\n",
    "low_energy_state = [\n",
    "    (-0.054661080280306085+0.016713907320174026j),\n",
    "    (0.12290003656489545-0.03758500591109822j),\n",
    "    (0.3649337966440005-0.11158863596657455j),\n",
    "    (-0.8205175732627094+0.25093231967092877j),\n",
    "    (0.010369790825776609-0.0031706387262686003j),\n",
    "    (-0.02331544978544721+0.007129899300113728j),\n",
    "    (-0.06923183949694546+0.0211684344103713j),\n",
    "    (0.15566094863283836-0.04760201916285508j),\n",
    "    (0.014520590919500158-0.004441887836078486j),\n",
    "    (-0.032648113364535575+0.009988590222879195j),\n",
    "    (-0.09694382811137187+0.02965579457620536j),\n",
    "    (0.21796861485652747-0.06668776658411019j),\n",
    "    (-0.0027547112135013247+0.0008426289322652901j),\n",
    "    (0.006193695872468649-0.0018948418969390599j),\n",
    "    (0.018391279795405405-0.005625722994009138j),\n",
    "    (-0.041350974715649635+0.012650711602265649j)\n",
    "    ]"
   ]
  },
  {
   "cell_type": "code",
   "execution_count": 33,
   "metadata": {},
   "outputs": [
    {
     "name": "stdout",
     "output_type": "stream",
     "text": [
      "Energy Expectation: -7.244508985189114\n",
      "Ground State Energy: -7.330689661291243\n"
     ]
    }
   ],
   "source": [
    "res = np.vdot(low_energy_state, (ham_matrix @ low_energy_state))\n",
    "energy_exp = np.real_if_close(res)\n",
    "print(f\"Energy Expectation: {energy_exp}\")\n",
    "\n",
    "\n",
    "ground_state_energy = np.real_if_close(min(np.linalg.eig(ham_matrix)[0]))\n",
    "print(f\"Ground State Energy: {ground_state_energy}\")"
   ]
  },
  {
   "cell_type": "code",
   "execution_count": 34,
   "metadata": {},
   "outputs": [],
   "source": [
    "def state_evolve(hamiltonian, qubits, time):\n",
    "\n",
    "    U = scipy.linalg.expm(-1j* hamiltonian * time)\n",
    "    qml.QubitUnitary(U, wires=qubits)"
   ]
  },
  {
   "cell_type": "code",
   "execution_count": 35,
   "metadata": {},
   "outputs": [],
   "source": [
    "def qgrnn_layer(param1, param2, qubits, graph, trotter_step):\n",
    "\n",
    "    # Applies a layer of RZZ gates (based on a graph)\n",
    "    for count, i in enumerate(graph.edges):\n",
    "        qml.MultiRZ(2 * param1[count] * trotter_step, wires=[i[0], i[1]])\n",
    "\n",
    "    # Applies a layer of RZ gates\n",
    "    for count, i in enumerate(qubits):\n",
    "        qml.RZ(2 * param2[count] * trotter_step, wires=i)\n",
    "\n",
    "    # Applies a layer of RX gates\n",
    "    for i in qubits:\n",
    "        qml.RX(2 * trotter_step, wires=i)"
   ]
  },
  {
   "cell_type": "code",
   "execution_count": 36,
   "metadata": {},
   "outputs": [],
   "source": [
    "def swap_test(control, register1, register2):\n",
    "\n",
    "    qml.Hadamard(wires=control)\n",
    "    for i in range(0, len(register1)):\n",
    "        qml.CSWAP(wires=[int(control), register1[i], register2[i]])\n",
    "    qml.Hadamard(wires=control)"
   ]
  },
  {
   "cell_type": "code",
   "execution_count": 43,
   "metadata": {},
   "outputs": [
    {
     "name": "stdout",
     "output_type": "stream",
     "text": [
      "Edges: [(4, 5), (4, 6), (4, 7), (5, 6), (5, 7), (6, 7)]\n"
     ]
    },
    {
     "data": {
      "image/png": "[encoded data removed]",
      "text/plain": [
       "<Figure size 432x288 with 1 Axes>"
      ]
     },
     "metadata": {},
     "output_type": "display_data"
    }
   ],
   "source": [
    "\n",
    "reg1 = list(range(qubit_number))  # First qubit register\n",
    "reg2 = list(range(qubit_number, 2 * qubit_number))  # Second qubit register\n",
    "\n",
    "control = 2 * qubit_number  # Index of control qubit\n",
    "trotter_step = 0.01  # Trotter step size\n",
    "\n",
    "# Defines the interaction graph for the new qubit system\n",
    "\n",
    "new_ising_graph = nx.Graph()\n",
    "new_ising_graph.add_nodes_from(range(qubit_number, 2 * qubit_number))\n",
    "new_ising_graph.add_edges_from([(4, 5), (5, 6), (6, 7), (4, 6), (7, 4), (5, 7)])\n",
    "\n",
    "print(f\"Edges: {new_ising_graph.edges}\")\n",
    "nx.draw(new_ising_graph)"
   ]
  },
  {
   "cell_type": "code",
   "execution_count": 44,
   "metadata": {},
   "outputs": [],
   "source": [
    "def qgrnn(params1, params2, time=None):\n",
    "\n",
    "    # Prepares the low energy state in the two registers\n",
    "    qml.QubitStateVector(np.kron(low_energy_state, low_energy_state), wires=reg1+reg2)\n",
    "\n",
    "    # Evolves the first qubit register with the time-evolution circuit to\n",
    "    # prepare a piece of quantum data\n",
    "    state_evolve(ham_matrix, reg1, time)\n",
    "\n",
    "    # Applies the QGRNN layers to the second qubit register\n",
    "    depth = time / trotter_step  # P = t/Delta\n",
    "    for i in range(0, int(depth)):\n",
    "        qgrnn_layer(params1, params2, reg2, new_ising_graph, trotter_step)\n",
    "\n",
    "    # Applies the SWAP test between the registers\n",
    "    swap_test(control, reg1, reg2)\n",
    "\n",
    "    # Returns the results of the SWAP test\n",
    "    return qml.expval(qml.PauliZ(control))"
   ]
  },
  {
   "cell_type": "markdown",
   "metadata": {},
   "source": [
    "We have the full QGRNN circuit, but we still need to define a cost function.\n",
    "# |⟨ψ(t)|UH(μ, Δ)|ψ0⟩|2 \n",
    "approaches 1 as the states become more similar and approaches 0 as the states become orthogonal. Thus, we choose to minimize the quantity \n",
    "# −|⟨ψ(t)|UH(μ, Δ)|ψ0⟩|2L\n",
    "\n",
    "Since we are interested in calculating this value for many different pieces of quantum data, the final cost function is the average negative fidelity* between registers:\n",
    "\n",
    "# (μ,Δ)= −1NN∑i = 1 |⟨ψ(ti)| UH(μ, Δ) |ψ0⟩|2,\n",
    "\n",
    "where we use \n",
    "N\n",
    " pieces of quantum data."
   ]
  },
  {
   "cell_type": "code",
   "execution_count": 45,
   "metadata": {},
   "outputs": [],
   "source": [
    "N = 15  # The number of pieces of quantum data that are used for each step\n",
    "max_time = 0.1  # The maximum value of time that can be used for quantum data"
   ]
  },
  {
   "cell_type": "code",
   "execution_count": 46,
   "metadata": {},
   "outputs": [],
   "source": [
    "def cost_function(params):\n",
    "\n",
    "    global iterations\n",
    "\n",
    "    # Separates the parameter list\n",
    "    weight_params = params[0:6]\n",
    "    bias_params = params[6:10]\n",
    "\n",
    "    # Randomly samples times at which the QGRNN runs\n",
    "    times_sampled = [np.random.uniform() * max_time for i in range(0, N)]\n",
    "\n",
    "    # Cycles through each of the sampled times and calculates the cost\n",
    "    total_cost = 0\n",
    "    for i in times_sampled:\n",
    "        result = qnode(weight_params, bias_params, time=i)\n",
    "        total_cost += -1 * result\n",
    "\n",
    "    # Prints the value of the cost function\n",
    "    if iterations % 5 == 0:\n",
    "        print(\n",
    "            \"Fidelity at Step \" + str(iterations) + \": \" + str((-1 * total_cost / N)._value)\n",
    "            )\n",
    "        print(\"Parameters at Step \" + str(iterations) + \": \" + str(params._value))\n",
    "        print(\"---------------------------------------------\")\n",
    "\n",
    "    iterations += 1\n",
    "\n",
    "    return total_cost / N"
   ]
  },
  {
   "cell_type": "code",
   "execution_count": 59,
   "metadata": {},
   "outputs": [
    {
     "name": "stdout",
     "output_type": "stream",
     "text": [
      "Fidelity at Step 0: 0.9869562129760274\n",
      "Parameters at Step 0: [0.36, -0.2, -0.26, 0.18, 0.28, 0.26, 0.12, 0.38, 0.22, -0.38]\n",
      "---------------------------------------------\n",
      "Fidelity at Step 5: 0.9818916782761892\n",
      "Parameters at Step 5: [-1.1093141299702969, 1.2828706510122707, 1.0943788451621994, 1.7053256800494105, 1.5262123765611724, -1.0196326090582115, -1.3456651677231053, -1.1274883298539442, 1.76108895496494, 0.8171005665924622]\n",
      "---------------------------------------------\n",
      "Fidelity at Step 10: 0.9823613721175266\n",
      "Parameters at Step 10: [-1.2639012874653088, 1.4803675987018743, 0.991804879181178, 2.034835251374648, 1.16336732306314, -0.7449493454083858, -1.489246149656205, -1.3997935813606033, 2.143096361274153, 0.3562994430866094]\n",
      "---------------------------------------------\n",
      "Fidelity at Step 15: 0.9979277043403635\n",
      "Parameters at Step 15: [-0.8651078333119713, 1.1322643900821383, 0.4877258894566254, 1.855429017192701, 0.4151169324836854, -0.10266774417896828, -1.0789665262285346, -1.1531679442998821, 2.0231630735970922, -0.4389556672968593]\n",
      "---------------------------------------------\n",
      "Fidelity at Step 20: 0.995021134939914\n",
      "Parameters at Step 20: [-0.37433039944462326, 0.681793682683987, 0.2058146614482569, 1.5518202874997422, -0.012061826434288173, 0.21838972461373185, -0.587341646751607, -0.8012004269731072, 1.753660007334515, -0.81184026552181]\n",
      "---------------------------------------------\n",
      "Fidelity at Step 25: 0.9979997423279023\n",
      "Parameters at Step 25: [-0.050049861044824756, 0.378069456073539, 0.42062776085229553, 1.330786689494121, 0.1605306593835881, -0.04985020762750615, -0.2899785740810217, -0.5705325053853505, 1.5147954752805588, -0.48380688063205085]\n",
      "---------------------------------------------\n",
      "Fidelity at Step 30: 0.9988051694538647\n",
      "Parameters at Step 30: [0.012667670661391038, 0.315002479481429, 0.824414519265405, 1.271195157839621, 0.5028160581292929, -0.46453225069923554, -0.28336848321726754, -0.5405911885057078, 1.3841107609886232, -0.00636791911886489]\n",
      "---------------------------------------------\n",
      "Fidelity at Step 35: 0.998210305514689\n",
      "Parameters at Step 35: [-0.07334362283326408, 0.3884494374328795, 1.0132209007600266, 1.3103340287097927, 0.5200081970647576, -0.5342242196653629, -0.43716756212964386, -0.6299052518780894, 1.321846571008055, 0.041450556482132375]\n",
      "---------------------------------------------\n",
      "Fidelity at Step 40: 0.9997493413904771\n",
      "Parameters at Step 40: [-0.1663616224045203, 0.4665472741704984, 0.9487219328791072, 1.381499553248197, 0.21970524051584525, -0.27908953399553516, -0.5861336039469709, -0.7512194354728231, 1.288847560850142, -0.306850137968003]\n",
      "---------------------------------------------\n",
      "Fidelity at Step 45: 0.9990445338384504\n",
      "Parameters at Step 45: [-0.20697104313633818, 0.4972000000329003, 0.9103125168386764, 1.4656036517625852, 0.002869412460431247, -0.11133913355078798, -0.6585464452582607, -0.8723189901880073, 1.2875520011336883, -0.5599240335355754]\n",
      "---------------------------------------------\n",
      "Fidelity at Step 50: 0.9997658530696594\n",
      "Parameters at Step 50: [-0.1720571858196378, 0.46414367299878984, 1.0497615288823452, 1.544954158961402, 0.06926223609674945, -0.24055928505620194, -0.6377470126847585, -0.9695893803735948, 1.309218239212322, -0.4699267528912887]\n",
      "---------------------------------------------\n",
      "Fidelity at Step 55: 0.9998273254822972\n",
      "Parameters at Step 55: [-0.07789944835280554, 0.3862076119079838, 1.1811711319530294, 1.5754836332942126, 0.15277442157455481, -0.3939054070231297, -0.563954347754102, -1.0006756871881513, 1.3077533145630584, -0.3478059030685397]\n",
      "---------------------------------------------\n",
      "Fidelity at Step 60: 0.9998727601699172\n",
      "Parameters at Step 60: [0.024691980664397328, 0.31113792631618803, 1.1967122053032344, 1.5643227116555978, 0.0835859788317074, -0.394875144763947, -0.5043432303037966, -0.9813269411019127, 1.276870227778541, -0.40202976516830996]\n",
      "---------------------------------------------\n",
      "Fidelity at Step 65: 0.9998712510427769\n",
      "Parameters at Step 65: [0.06691261748566782, 0.29761349819023225, 1.1862625151066377, 1.5658281913038092, -0.029690451010847923, -0.3429674923317146, -0.5248499717207291, -0.9791412700047563, 1.254340735482233, -0.5205303445081628]\n",
      "---------------------------------------------\n",
      "Fidelity at Step 70: 0.9998750296318366\n",
      "Parameters at Step 70: [0.05013082184232102, 0.3369405284626106, 1.2386518458566684, 1.601175188043766, -0.05656264431344842, -0.3664819975473365, -0.6096978437332201, -1.021577230743346, 1.2531253210628195, -0.5539396304421877]\n",
      "---------------------------------------------\n",
      "Fidelity at Step 75: 0.9998987778853213\n",
      "Parameters at Step 75: [0.04742919359742605, 0.3553816914614405, 1.3109533825591984, 1.6364189779566947, -0.028368754066982783, -0.43957521861713944, -0.6742796163813382, -1.073349594214436, 1.2382691041375689, -0.5309948748032773]\n",
      "---------------------------------------------\n",
      "Fidelity at Step 80: 0.9999251511137618\n",
      "Parameters at Step 80: [0.09765251677397047, 0.31871167043206916, 1.3161971172747036, 1.6401297902335163, -0.054289758097913685, -0.454868603055575, -0.6753703249617716, -1.0929751610275507, 1.1924190983210907, -0.5705490190079019]\n",
      "---------------------------------------------\n",
      "Fidelity at Step 85: 0.9999533736468227\n",
      "Parameters at Step 85: [0.1541688609644938, 0.27680660987397293, 1.3018403238990175, 1.6397150395966964, -0.09077122380599066, -0.45548353764657934, -0.6677117882529908, -1.1051680506161174, 1.1484507689494863, -0.6257175062143684]\n",
      "---------------------------------------------\n",
      "Fidelity at Step 90: 0.9999405378860253\n",
      "Parameters at Step 90: [0.1763396187710536, 0.2720408097684054, 1.3225478335657102, 1.659730738247017, -0.082773905166693, -0.4962830815771126, -0.6996338461019821, -1.1343676350655176, 1.131843455383486, -0.6360867168648603]\n",
      "---------------------------------------------\n",
      "Fidelity at Step 95: 0.9999555582141915\n",
      "Parameters at Step 95: [0.18615757461569674, 0.2832929589179465, 1.3404419042217288, 1.6816874645574136, -0.07473206963700292, -0.5350499188395386, -0.7515619035186172, -1.1623426301253938, 1.1234391539345012, -0.6506092738965354]\n",
      "---------------------------------------------\n",
      "Fidelity at Step 100: 0.9999536110324717\n",
      "Parameters at Step 100: [0.21419957595171718, 0.2776036555806008, 1.330378833427441, 1.6869084102826346, -0.09288653204736534, -0.5459406740980511, -0.7859025619542562, -1.1709847601419348, 1.102509786975969, -0.694919335527042]\n",
      "---------------------------------------------\n",
      "Fidelity at Step 105: 0.9999741422394635\n",
      "Parameters at Step 105: [0.24938179538003563, 0.26295766262639175, 1.3278248190884607, 1.6890571694069305, -0.09365575600820797, -0.5712049943702707, -0.8103219049433904, -1.1769658307288124, 1.0779353391692688, -0.7205025509502401]\n",
      "---------------------------------------------\n",
      "Fidelity at Step 110: 0.9999666773476739\n",
      "Parameters at Step 110: [0.27525058630594385, 0.25417223078513174, 1.3343907842077178, 1.6982169584828954, -0.07942777298246757, -0.6065343369073647, -0.8405474169530696, -1.1919582690980017, 1.0589784659388017, -0.7320144776315562]\n",
      "---------------------------------------------\n"
     ]
    },
    {
     "ename": "KeyboardInterrupt",
     "evalue": "",
     "output_type": "error",
     "traceback": [
      "\u001b[1;31m---------------------------------------------------------------------------\u001b[0m",
      "\u001b[1;31mKeyboardInterrupt\u001b[0m                         Traceback (most recent call last)",
      "\u001b[1;32m<ipython-input-59-5207941fc0ac>\u001b[0m in \u001b[0;36m<module>\u001b[1;34m\u001b[0m\n\u001b[0;32m     16\u001b[0m \u001b[1;33m\u001b[0m\u001b[0m\n\u001b[0;32m     17\u001b[0m \u001b[1;32mfor\u001b[0m \u001b[0mi\u001b[0m \u001b[1;32min\u001b[0m \u001b[0mrange\u001b[0m\u001b[1;33m(\u001b[0m\u001b[1;36m0\u001b[0m\u001b[1;33m,\u001b[0m \u001b[0msteps\u001b[0m\u001b[1;33m)\u001b[0m\u001b[1;33m:\u001b[0m\u001b[1;33m\u001b[0m\u001b[1;33m\u001b[0m\u001b[0m\n\u001b[1;32m---> 18\u001b[1;33m     \u001b[0mqgrnn_params\u001b[0m \u001b[1;33m=\u001b[0m \u001b[0moptimizer\u001b[0m\u001b[1;33m.\u001b[0m\u001b[0mstep\u001b[0m\u001b[1;33m(\u001b[0m\u001b[0mcost_function\u001b[0m\u001b[1;33m,\u001b[0m \u001b[0mqgrnn_params\u001b[0m\u001b[1;33m)\u001b[0m\u001b[1;33m\u001b[0m\u001b[1;33m\u001b[0m\u001b[0m\n\u001b[0m",
      "\u001b[1;32m~\\Anaconda3\\envs\\quanta\\lib\\site-packages\\pennylane\\optimize\\gradient_descent.py\u001b[0m in \u001b[0;36mstep\u001b[1;34m(self, objective_fn, x, grad_fn)\u001b[0m\n\u001b[0;32m     62\u001b[0m         \"\"\"\n\u001b[0;32m     63\u001b[0m \u001b[1;33m\u001b[0m\u001b[0m\n\u001b[1;32m---> 64\u001b[1;33m         \u001b[0mg\u001b[0m \u001b[1;33m=\u001b[0m \u001b[0mself\u001b[0m\u001b[1;33m.\u001b[0m\u001b[0mcompute_grad\u001b[0m\u001b[1;33m(\u001b[0m\u001b[0mobjective_fn\u001b[0m\u001b[1;33m,\u001b[0m \u001b[0mx\u001b[0m\u001b[1;33m,\u001b[0m \u001b[0mgrad_fn\u001b[0m\u001b[1;33m=\u001b[0m\u001b[0mgrad_fn\u001b[0m\u001b[1;33m)\u001b[0m\u001b[1;33m\u001b[0m\u001b[1;33m\u001b[0m\u001b[0m\n\u001b[0m\u001b[0;32m     65\u001b[0m \u001b[1;33m\u001b[0m\u001b[0m\n\u001b[0;32m     66\u001b[0m         \u001b[0mx_out\u001b[0m \u001b[1;33m=\u001b[0m \u001b[0mself\u001b[0m\u001b[1;33m.\u001b[0m\u001b[0mapply_grad\u001b[0m\u001b[1;33m(\u001b[0m\u001b[0mg\u001b[0m\u001b[1;33m,\u001b[0m \u001b[0mx\u001b[0m\u001b[1;33m)\u001b[0m\u001b[1;33m\u001b[0m\u001b[1;33m\u001b[0m\u001b[0m\n",
      "\u001b[1;32m~\\Anaconda3\\envs\\quanta\\lib\\site-packages\\pennylane\\optimize\\gradient_descent.py\u001b[0m in \u001b[0;36mcompute_grad\u001b[1;34m(objective_fn, x, grad_fn)\u001b[0m\n\u001b[0;32m     86\u001b[0m         \u001b[1;32melse\u001b[0m\u001b[1;33m:\u001b[0m\u001b[1;33m\u001b[0m\u001b[1;33m\u001b[0m\u001b[0m\n\u001b[0;32m     87\u001b[0m             \u001b[1;31m# default is autograd\u001b[0m\u001b[1;33m\u001b[0m\u001b[1;33m\u001b[0m\u001b[1;33m\u001b[0m\u001b[0m\n\u001b[1;32m---> 88\u001b[1;33m             \u001b[0mg\u001b[0m \u001b[1;33m=\u001b[0m \u001b[0mautograd\u001b[0m\u001b[1;33m.\u001b[0m\u001b[0mgrad\u001b[0m\u001b[1;33m(\u001b[0m\u001b[0mobjective_fn\u001b[0m\u001b[1;33m)\u001b[0m\u001b[1;33m(\u001b[0m\u001b[0mx\u001b[0m\u001b[1;33m)\u001b[0m  \u001b[1;31m# pylint: disable=no-value-for-parameter\u001b[0m\u001b[1;33m\u001b[0m\u001b[1;33m\u001b[0m\u001b[0m\n\u001b[0m\u001b[0;32m     89\u001b[0m         \u001b[1;32mreturn\u001b[0m \u001b[0mg\u001b[0m\u001b[1;33m\u001b[0m\u001b[1;33m\u001b[0m\u001b[0m\n\u001b[0;32m     90\u001b[0m \u001b[1;33m\u001b[0m\u001b[0m\n",
      "\u001b[1;32m~\\Anaconda3\\envs\\quanta\\lib\\site-packages\\autograd\\wrap_util.py\u001b[0m in \u001b[0;36mnary_f\u001b[1;34m(*args, **kwargs)\u001b[0m\n\u001b[0;32m     18\u001b[0m             \u001b[1;32melse\u001b[0m\u001b[1;33m:\u001b[0m\u001b[1;33m\u001b[0m\u001b[1;33m\u001b[0m\u001b[0m\n\u001b[0;32m     19\u001b[0m                 \u001b[0mx\u001b[0m \u001b[1;33m=\u001b[0m \u001b[0mtuple\u001b[0m\u001b[1;33m(\u001b[0m\u001b[0margs\u001b[0m\u001b[1;33m[\u001b[0m\u001b[0mi\u001b[0m\u001b[1;33m]\u001b[0m \u001b[1;32mfor\u001b[0m \u001b[0mi\u001b[0m \u001b[1;32min\u001b[0m \u001b[0margnum\u001b[0m\u001b[1;33m)\u001b[0m\u001b[1;33m\u001b[0m\u001b[1;33m\u001b[0m\u001b[0m\n\u001b[1;32m---> 20\u001b[1;33m             \u001b[1;32mreturn\u001b[0m \u001b[0munary_operator\u001b[0m\u001b[1;33m(\u001b[0m\u001b[0munary_f\u001b[0m\u001b[1;33m,\u001b[0m \u001b[0mx\u001b[0m\u001b[1;33m,\u001b[0m \u001b[1;33m*\u001b[0m\u001b[0mnary_op_args\u001b[0m\u001b[1;33m,\u001b[0m \u001b[1;33m**\u001b[0m\u001b[0mnary_op_kwargs\u001b[0m\u001b[1;33m)\u001b[0m\u001b[1;33m\u001b[0m\u001b[1;33m\u001b[0m\u001b[0m\n\u001b[0m\u001b[0;32m     21\u001b[0m         \u001b[1;32mreturn\u001b[0m \u001b[0mnary_f\u001b[0m\u001b[1;33m\u001b[0m\u001b[1;33m\u001b[0m\u001b[0m\n\u001b[0;32m     22\u001b[0m     \u001b[1;32mreturn\u001b[0m \u001b[0mnary_operator\u001b[0m\u001b[1;33m\u001b[0m\u001b[1;33m\u001b[0m\u001b[0m\n",
      "\u001b[1;32m~\\Anaconda3\\envs\\quanta\\lib\\site-packages\\autograd\\differential_operators.py\u001b[0m in \u001b[0;36mgrad\u001b[1;34m(fun, x)\u001b[0m\n\u001b[0;32m     27\u001b[0m         raise TypeError(\"Grad only applies to real scalar-output functions. \"\n\u001b[0;32m     28\u001b[0m                         \"Try jacobian, elementwise_grad or holomorphic_grad.\")\n\u001b[1;32m---> 29\u001b[1;33m     \u001b[1;32mreturn\u001b[0m \u001b[0mvjp\u001b[0m\u001b[1;33m(\u001b[0m\u001b[0mvspace\u001b[0m\u001b[1;33m(\u001b[0m\u001b[0mans\u001b[0m\u001b[1;33m)\u001b[0m\u001b[1;33m.\u001b[0m\u001b[0mones\u001b[0m\u001b[1;33m(\u001b[0m\u001b[1;33m)\u001b[0m\u001b[1;33m)\u001b[0m\u001b[1;33m\u001b[0m\u001b[1;33m\u001b[0m\u001b[0m\n\u001b[0m\u001b[0;32m     30\u001b[0m \u001b[1;33m\u001b[0m\u001b[0m\n\u001b[0;32m     31\u001b[0m \u001b[1;33m@\u001b[0m\u001b[0munary_to_nary\u001b[0m\u001b[1;33m\u001b[0m\u001b[1;33m\u001b[0m\u001b[0m\n",
      "\u001b[1;32m~\\Anaconda3\\envs\\quanta\\lib\\site-packages\\autograd\\core.py\u001b[0m in \u001b[0;36mvjp\u001b[1;34m(g)\u001b[0m\n\u001b[0;32m     12\u001b[0m         \u001b[1;32mdef\u001b[0m \u001b[0mvjp\u001b[0m\u001b[1;33m(\u001b[0m\u001b[0mg\u001b[0m\u001b[1;33m)\u001b[0m\u001b[1;33m:\u001b[0m \u001b[1;32mreturn\u001b[0m \u001b[0mvspace\u001b[0m\u001b[1;33m(\u001b[0m\u001b[0mx\u001b[0m\u001b[1;33m)\u001b[0m\u001b[1;33m.\u001b[0m\u001b[0mzeros\u001b[0m\u001b[1;33m(\u001b[0m\u001b[1;33m)\u001b[0m\u001b[1;33m\u001b[0m\u001b[1;33m\u001b[0m\u001b[0m\n\u001b[0;32m     13\u001b[0m     \u001b[1;32melse\u001b[0m\u001b[1;33m:\u001b[0m\u001b[1;33m\u001b[0m\u001b[1;33m\u001b[0m\u001b[0m\n\u001b[1;32m---> 14\u001b[1;33m         \u001b[1;32mdef\u001b[0m \u001b[0mvjp\u001b[0m\u001b[1;33m(\u001b[0m\u001b[0mg\u001b[0m\u001b[1;33m)\u001b[0m\u001b[1;33m:\u001b[0m \u001b[1;32mreturn\u001b[0m \u001b[0mbackward_pass\u001b[0m\u001b[1;33m(\u001b[0m\u001b[0mg\u001b[0m\u001b[1;33m,\u001b[0m \u001b[0mend_node\u001b[0m\u001b[1;33m)\u001b[0m\u001b[1;33m\u001b[0m\u001b[1;33m\u001b[0m\u001b[0m\n\u001b[0m\u001b[0;32m     15\u001b[0m     \u001b[1;32mreturn\u001b[0m \u001b[0mvjp\u001b[0m\u001b[1;33m,\u001b[0m \u001b[0mend_value\u001b[0m\u001b[1;33m\u001b[0m\u001b[1;33m\u001b[0m\u001b[0m\n\u001b[0;32m     16\u001b[0m \u001b[1;33m\u001b[0m\u001b[0m\n",
      "\u001b[1;32m~\\Anaconda3\\envs\\quanta\\lib\\site-packages\\autograd\\core.py\u001b[0m in \u001b[0;36mbackward_pass\u001b[1;34m(g, end_node)\u001b[0m\n\u001b[0;32m     19\u001b[0m     \u001b[1;32mfor\u001b[0m \u001b[0mnode\u001b[0m \u001b[1;32min\u001b[0m \u001b[0mtoposort\u001b[0m\u001b[1;33m(\u001b[0m\u001b[0mend_node\u001b[0m\u001b[1;33m)\u001b[0m\u001b[1;33m:\u001b[0m\u001b[1;33m\u001b[0m\u001b[1;33m\u001b[0m\u001b[0m\n\u001b[0;32m     20\u001b[0m         \u001b[0moutgrad\u001b[0m \u001b[1;33m=\u001b[0m \u001b[0moutgrads\u001b[0m\u001b[1;33m.\u001b[0m\u001b[0mpop\u001b[0m\u001b[1;33m(\u001b[0m\u001b[0mnode\u001b[0m\u001b[1;33m)\u001b[0m\u001b[1;33m\u001b[0m\u001b[1;33m\u001b[0m\u001b[0m\n\u001b[1;32m---> 21\u001b[1;33m         \u001b[0mingrads\u001b[0m \u001b[1;33m=\u001b[0m \u001b[0mnode\u001b[0m\u001b[1;33m.\u001b[0m\u001b[0mvjp\u001b[0m\u001b[1;33m(\u001b[0m\u001b[0moutgrad\u001b[0m\u001b[1;33m[\u001b[0m\u001b[1;36m0\u001b[0m\u001b[1;33m]\u001b[0m\u001b[1;33m)\u001b[0m\u001b[1;33m\u001b[0m\u001b[1;33m\u001b[0m\u001b[0m\n\u001b[0m\u001b[0;32m     22\u001b[0m         \u001b[1;32mfor\u001b[0m \u001b[0mparent\u001b[0m\u001b[1;33m,\u001b[0m \u001b[0mingrad\u001b[0m \u001b[1;32min\u001b[0m \u001b[0mzip\u001b[0m\u001b[1;33m(\u001b[0m\u001b[0mnode\u001b[0m\u001b[1;33m.\u001b[0m\u001b[0mparents\u001b[0m\u001b[1;33m,\u001b[0m \u001b[0mingrads\u001b[0m\u001b[1;33m)\u001b[0m\u001b[1;33m:\u001b[0m\u001b[1;33m\u001b[0m\u001b[1;33m\u001b[0m\u001b[0m\n\u001b[0;32m     23\u001b[0m             \u001b[0moutgrads\u001b[0m\u001b[1;33m[\u001b[0m\u001b[0mparent\u001b[0m\u001b[1;33m]\u001b[0m \u001b[1;33m=\u001b[0m \u001b[0madd_outgrads\u001b[0m\u001b[1;33m(\u001b[0m\u001b[0moutgrads\u001b[0m\u001b[1;33m.\u001b[0m\u001b[0mget\u001b[0m\u001b[1;33m(\u001b[0m\u001b[0mparent\u001b[0m\u001b[1;33m)\u001b[0m\u001b[1;33m,\u001b[0m \u001b[0mingrad\u001b[0m\u001b[1;33m)\u001b[0m\u001b[1;33m\u001b[0m\u001b[1;33m\u001b[0m\u001b[0m\n",
      "\u001b[1;32m~\\Anaconda3\\envs\\quanta\\lib\\site-packages\\autograd\\core.py\u001b[0m in \u001b[0;36m<lambda>\u001b[1;34m(g)\u001b[0m\n\u001b[0;32m     65\u001b[0m                     \"VJP of {} wrt argnum 0 not defined\".format(fun.__name__))\n\u001b[0;32m     66\u001b[0m             \u001b[0mvjp\u001b[0m \u001b[1;33m=\u001b[0m \u001b[0mvjpfun\u001b[0m\u001b[1;33m(\u001b[0m\u001b[0mans\u001b[0m\u001b[1;33m,\u001b[0m \u001b[1;33m*\u001b[0m\u001b[0margs\u001b[0m\u001b[1;33m,\u001b[0m \u001b[1;33m**\u001b[0m\u001b[0mkwargs\u001b[0m\u001b[1;33m)\u001b[0m\u001b[1;33m\u001b[0m\u001b[1;33m\u001b[0m\u001b[0m\n\u001b[1;32m---> 67\u001b[1;33m             \u001b[1;32mreturn\u001b[0m \u001b[1;32mlambda\u001b[0m \u001b[0mg\u001b[0m\u001b[1;33m:\u001b[0m \u001b[1;33m(\u001b[0m\u001b[0mvjp\u001b[0m\u001b[1;33m(\u001b[0m\u001b[0mg\u001b[0m\u001b[1;33m)\u001b[0m\u001b[1;33m,\u001b[0m\u001b[1;33m)\u001b[0m\u001b[1;33m\u001b[0m\u001b[1;33m\u001b[0m\u001b[0m\n\u001b[0m\u001b[0;32m     68\u001b[0m         \u001b[1;32melif\u001b[0m \u001b[0mL\u001b[0m \u001b[1;33m==\u001b[0m \u001b[1;36m2\u001b[0m\u001b[1;33m:\u001b[0m\u001b[1;33m\u001b[0m\u001b[1;33m\u001b[0m\u001b[0m\n\u001b[0;32m     69\u001b[0m             \u001b[0margnum_0\u001b[0m\u001b[1;33m,\u001b[0m \u001b[0margnum_1\u001b[0m \u001b[1;33m=\u001b[0m \u001b[0margnums\u001b[0m\u001b[1;33m\u001b[0m\u001b[1;33m\u001b[0m\u001b[0m\n",
      "\u001b[1;32m~\\Anaconda3\\envs\\quanta\\lib\\site-packages\\pennylane\\interfaces\\autograd.py\u001b[0m in \u001b[0;36mgradient_product\u001b[1;34m(g)\u001b[0m\n\u001b[0;32m     92\u001b[0m                 \u001b[1;31m# Jacobian matrix of the circuit\u001b[0m\u001b[1;33m\u001b[0m\u001b[1;33m\u001b[0m\u001b[1;33m\u001b[0m\u001b[0m\n\u001b[0;32m     93\u001b[0m                 \u001b[0mself\u001b[0m\u001b[1;33m.\u001b[0m\u001b[0mset_trainable\u001b[0m\u001b[1;33m(\u001b[0m\u001b[0margs\u001b[0m\u001b[1;33m)\u001b[0m\u001b[1;33m\u001b[0m\u001b[1;33m\u001b[0m\u001b[0m\n\u001b[1;32m---> 94\u001b[1;33m                 \u001b[0mjac\u001b[0m \u001b[1;33m=\u001b[0m \u001b[0mself\u001b[0m\u001b[1;33m.\u001b[0m\u001b[0mjacobian\u001b[0m\u001b[1;33m(\u001b[0m\u001b[0margs\u001b[0m\u001b[1;33m,\u001b[0m \u001b[0mkwargs\u001b[0m\u001b[1;33m)\u001b[0m\u001b[1;33m\u001b[0m\u001b[1;33m\u001b[0m\u001b[0m\n\u001b[0m\u001b[0;32m     95\u001b[0m \u001b[1;33m\u001b[0m\u001b[0m\n\u001b[0;32m     96\u001b[0m                 \u001b[1;32mif\u001b[0m \u001b[1;32mnot\u001b[0m \u001b[0mg\u001b[0m\u001b[1;33m.\u001b[0m\u001b[0mshape\u001b[0m\u001b[1;33m:\u001b[0m\u001b[1;33m\u001b[0m\u001b[1;33m\u001b[0m\u001b[0m\n",
      "\u001b[1;32m~\\Anaconda3\\envs\\quanta\\lib\\site-packages\\pennylane\\qnodes\\jacobian.py\u001b[0m in \u001b[0;36mjacobian\u001b[1;34m(self, args, kwargs, wrt, method, options)\u001b[0m\n\u001b[0;32m    324\u001b[0m                     \u001b[0mgrad\u001b[0m\u001b[1;33m[\u001b[0m\u001b[1;33m:\u001b[0m\u001b[1;33m,\u001b[0m \u001b[0mi\u001b[0m\u001b[1;33m]\u001b[0m \u001b[1;33m=\u001b[0m \u001b[0mself\u001b[0m\u001b[1;33m.\u001b[0m\u001b[0m_pd_analytic_var\u001b[0m\u001b[1;33m(\u001b[0m\u001b[0mk\u001b[0m\u001b[1;33m,\u001b[0m \u001b[0mflat_args\u001b[0m\u001b[1;33m,\u001b[0m \u001b[0mkwargs\u001b[0m\u001b[1;33m,\u001b[0m \u001b[1;33m**\u001b[0m\u001b[0moptions\u001b[0m\u001b[1;33m)\u001b[0m\u001b[1;33m\u001b[0m\u001b[1;33m\u001b[0m\u001b[0m\n\u001b[0;32m    325\u001b[0m                 \u001b[1;32melse\u001b[0m\u001b[1;33m:\u001b[0m\u001b[1;33m\u001b[0m\u001b[1;33m\u001b[0m\u001b[0m\n\u001b[1;32m--> 326\u001b[1;33m                     \u001b[0mgrad\u001b[0m\u001b[1;33m[\u001b[0m\u001b[1;33m:\u001b[0m\u001b[1;33m,\u001b[0m \u001b[0mi\u001b[0m\u001b[1;33m]\u001b[0m \u001b[1;33m=\u001b[0m \u001b[0mself\u001b[0m\u001b[1;33m.\u001b[0m\u001b[0m_pd_analytic\u001b[0m\u001b[1;33m(\u001b[0m\u001b[0mk\u001b[0m\u001b[1;33m,\u001b[0m \u001b[0mflat_args\u001b[0m\u001b[1;33m,\u001b[0m \u001b[0mkwargs\u001b[0m\u001b[1;33m,\u001b[0m \u001b[1;33m**\u001b[0m\u001b[0moptions\u001b[0m\u001b[1;33m)\u001b[0m\u001b[1;33m\u001b[0m\u001b[1;33m\u001b[0m\u001b[0m\n\u001b[0m\u001b[0;32m    327\u001b[0m             \u001b[1;32melif\u001b[0m \u001b[0mpar_method\u001b[0m \u001b[1;33m==\u001b[0m \u001b[1;34m\"F\"\u001b[0m\u001b[1;33m:\u001b[0m\u001b[1;33m\u001b[0m\u001b[1;33m\u001b[0m\u001b[0m\n\u001b[0;32m    328\u001b[0m                 \u001b[0mgrad\u001b[0m\u001b[1;33m[\u001b[0m\u001b[1;33m:\u001b[0m\u001b[1;33m,\u001b[0m \u001b[0mi\u001b[0m\u001b[1;33m]\u001b[0m \u001b[1;33m=\u001b[0m \u001b[0mself\u001b[0m\u001b[1;33m.\u001b[0m\u001b[0m_pd_finite_diff\u001b[0m\u001b[1;33m(\u001b[0m\u001b[0mk\u001b[0m\u001b[1;33m,\u001b[0m \u001b[0mflat_args\u001b[0m\u001b[1;33m,\u001b[0m \u001b[0mkwargs\u001b[0m\u001b[1;33m,\u001b[0m \u001b[1;33m**\u001b[0m\u001b[0moptions\u001b[0m\u001b[1;33m)\u001b[0m\u001b[1;33m\u001b[0m\u001b[1;33m\u001b[0m\u001b[0m\n",
      "\u001b[1;32m~\\Anaconda3\\envs\\quanta\\lib\\site-packages\\pennylane\\qnodes\\qubit.py\u001b[0m in \u001b[0;36m_pd_analytic\u001b[1;34m(self, idx, args, kwargs, **options)\u001b[0m\n\u001b[0;32m    137\u001b[0m             \u001b[1;31m# evaluate the circuit at two points with shifted parameter values\u001b[0m\u001b[1;33m\u001b[0m\u001b[1;33m\u001b[0m\u001b[1;33m\u001b[0m\u001b[0m\n\u001b[0;32m    138\u001b[0m             \u001b[0my2\u001b[0m \u001b[1;33m=\u001b[0m \u001b[0mnp\u001b[0m\u001b[1;33m.\u001b[0m\u001b[0masarray\u001b[0m\u001b[1;33m(\u001b[0m\u001b[0mself\u001b[0m\u001b[1;33m.\u001b[0m\u001b[0mevaluate\u001b[0m\u001b[1;33m(\u001b[0m\u001b[0mshift_p1\u001b[0m\u001b[1;33m,\u001b[0m \u001b[0mkwargs\u001b[0m\u001b[1;33m)\u001b[0m\u001b[1;33m)\u001b[0m\u001b[1;33m\u001b[0m\u001b[1;33m\u001b[0m\u001b[0m\n\u001b[1;32m--> 139\u001b[1;33m             \u001b[0my1\u001b[0m \u001b[1;33m=\u001b[0m \u001b[0mnp\u001b[0m\u001b[1;33m.\u001b[0m\u001b[0masarray\u001b[0m\u001b[1;33m(\u001b[0m\u001b[0mself\u001b[0m\u001b[1;33m.\u001b[0m\u001b[0mevaluate\u001b[0m\u001b[1;33m(\u001b[0m\u001b[0mshift_p2\u001b[0m\u001b[1;33m,\u001b[0m \u001b[0mkwargs\u001b[0m\u001b[1;33m)\u001b[0m\u001b[1;33m)\u001b[0m\u001b[1;33m\u001b[0m\u001b[1;33m\u001b[0m\u001b[0m\n\u001b[0m\u001b[0;32m    140\u001b[0m             \u001b[0mpd\u001b[0m \u001b[1;33m+=\u001b[0m \u001b[1;33m(\u001b[0m\u001b[0my2\u001b[0m \u001b[1;33m-\u001b[0m \u001b[0my1\u001b[0m\u001b[1;33m)\u001b[0m \u001b[1;33m*\u001b[0m \u001b[0mmultiplier\u001b[0m\u001b[1;33m\u001b[0m\u001b[1;33m\u001b[0m\u001b[0m\n\u001b[0;32m    141\u001b[0m \u001b[1;33m\u001b[0m\u001b[0m\n",
      "\u001b[1;32m~\\Anaconda3\\envs\\quanta\\lib\\site-packages\\autograd\\tracer.py\u001b[0m in \u001b[0;36mf_wrapped\u001b[1;34m(*args, **kwargs)\u001b[0m\n\u001b[0;32m     46\u001b[0m             \u001b[1;32mreturn\u001b[0m \u001b[0mnew_box\u001b[0m\u001b[1;33m(\u001b[0m\u001b[0mans\u001b[0m\u001b[1;33m,\u001b[0m \u001b[0mtrace\u001b[0m\u001b[1;33m,\u001b[0m \u001b[0mnode\u001b[0m\u001b[1;33m)\u001b[0m\u001b[1;33m\u001b[0m\u001b[1;33m\u001b[0m\u001b[0m\n\u001b[0;32m     47\u001b[0m         \u001b[1;32melse\u001b[0m\u001b[1;33m:\u001b[0m\u001b[1;33m\u001b[0m\u001b[1;33m\u001b[0m\u001b[0m\n\u001b[1;32m---> 48\u001b[1;33m             \u001b[1;32mreturn\u001b[0m \u001b[0mf_raw\u001b[0m\u001b[1;33m(\u001b[0m\u001b[1;33m*\u001b[0m\u001b[0margs\u001b[0m\u001b[1;33m,\u001b[0m \u001b[1;33m**\u001b[0m\u001b[0mkwargs\u001b[0m\u001b[1;33m)\u001b[0m\u001b[1;33m\u001b[0m\u001b[1;33m\u001b[0m\u001b[0m\n\u001b[0m\u001b[0;32m     49\u001b[0m     \u001b[0mf_wrapped\u001b[0m\u001b[1;33m.\u001b[0m\u001b[0mfun\u001b[0m \u001b[1;33m=\u001b[0m \u001b[0mf_raw\u001b[0m\u001b[1;33m\u001b[0m\u001b[1;33m\u001b[0m\u001b[0m\n\u001b[0;32m     50\u001b[0m     \u001b[0mf_wrapped\u001b[0m\u001b[1;33m.\u001b[0m\u001b[0m_is_autograd_primitive\u001b[0m \u001b[1;33m=\u001b[0m \u001b[1;32mTrue\u001b[0m\u001b[1;33m\u001b[0m\u001b[1;33m\u001b[0m\u001b[0m\n",
      "\u001b[1;32m~\\Anaconda3\\envs\\quanta\\lib\\site-packages\\pennylane\\qnodes\\base.py\u001b[0m in \u001b[0;36mevaluate\u001b[1;34m(self, args, kwargs)\u001b[0m\n\u001b[0;32m    826\u001b[0m         \u001b[1;32mif\u001b[0m \u001b[0misinstance\u001b[0m\u001b[1;33m(\u001b[0m\u001b[0mself\u001b[0m\u001b[1;33m.\u001b[0m\u001b[0mdevice\u001b[0m\u001b[1;33m,\u001b[0m \u001b[0mqml\u001b[0m\u001b[1;33m.\u001b[0m\u001b[0mQubitDevice\u001b[0m\u001b[1;33m)\u001b[0m\u001b[1;33m:\u001b[0m\u001b[1;33m\u001b[0m\u001b[1;33m\u001b[0m\u001b[0m\n\u001b[0;32m    827\u001b[0m             \u001b[1;31m# TODO: remove this if statement once all devices are ported to the QubitDevice API\u001b[0m\u001b[1;33m\u001b[0m\u001b[1;33m\u001b[0m\u001b[1;33m\u001b[0m\u001b[0m\n\u001b[1;32m--> 828\u001b[1;33m             \u001b[0mret\u001b[0m \u001b[1;33m=\u001b[0m \u001b[0mself\u001b[0m\u001b[1;33m.\u001b[0m\u001b[0mdevice\u001b[0m\u001b[1;33m.\u001b[0m\u001b[0mexecute\u001b[0m\u001b[1;33m(\u001b[0m\u001b[0mself\u001b[0m\u001b[1;33m.\u001b[0m\u001b[0mcircuit\u001b[0m\u001b[1;33m,\u001b[0m \u001b[0mreturn_native_type\u001b[0m\u001b[1;33m=\u001b[0m\u001b[0mtemp\u001b[0m\u001b[1;33m)\u001b[0m\u001b[1;33m\u001b[0m\u001b[1;33m\u001b[0m\u001b[0m\n\u001b[0m\u001b[0;32m    829\u001b[0m         \u001b[1;32melse\u001b[0m\u001b[1;33m:\u001b[0m\u001b[1;33m\u001b[0m\u001b[1;33m\u001b[0m\u001b[0m\n\u001b[0;32m    830\u001b[0m             ret = self.device.execute(\n",
      "\u001b[1;32m~\\Anaconda3\\envs\\quanta\\lib\\site-packages\\pennylane\\_qubit_device.py\u001b[0m in \u001b[0;36mexecute\u001b[1;34m(self, circuit, **kwargs)\u001b[0m\n\u001b[0;32m    180\u001b[0m \u001b[1;33m\u001b[0m\u001b[0m\n\u001b[0;32m    181\u001b[0m         \u001b[1;31m# apply all circuit operations\u001b[0m\u001b[1;33m\u001b[0m\u001b[1;33m\u001b[0m\u001b[1;33m\u001b[0m\u001b[0m\n\u001b[1;32m--> 182\u001b[1;33m         \u001b[0mself\u001b[0m\u001b[1;33m.\u001b[0m\u001b[0mapply\u001b[0m\u001b[1;33m(\u001b[0m\u001b[0mcircuit\u001b[0m\u001b[1;33m.\u001b[0m\u001b[0moperations\u001b[0m\u001b[1;33m,\u001b[0m \u001b[0mrotations\u001b[0m\u001b[1;33m=\u001b[0m\u001b[0mcircuit\u001b[0m\u001b[1;33m.\u001b[0m\u001b[0mdiagonalizing_gates\u001b[0m\u001b[1;33m,\u001b[0m \u001b[1;33m**\u001b[0m\u001b[0mkwargs\u001b[0m\u001b[1;33m)\u001b[0m\u001b[1;33m\u001b[0m\u001b[1;33m\u001b[0m\u001b[0m\n\u001b[0m\u001b[0;32m    183\u001b[0m \u001b[1;33m\u001b[0m\u001b[0m\n\u001b[0;32m    184\u001b[0m         \u001b[1;31m# generate computational basis samples\u001b[0m\u001b[1;33m\u001b[0m\u001b[1;33m\u001b[0m\u001b[1;33m\u001b[0m\u001b[0m\n",
      "\u001b[1;32m~\\Anaconda3\\envs\\quanta\\lib\\site-packages\\pennylane\\devices\\default_qubit.py\u001b[0m in \u001b[0;36mapply\u001b[1;34m(self, operations, rotations, **kwargs)\u001b[0m\n\u001b[0;32m    108\u001b[0m                 )\n\u001b[0;32m    109\u001b[0m \u001b[1;33m\u001b[0m\u001b[0m\n\u001b[1;32m--> 110\u001b[1;33m             \u001b[0mself\u001b[0m\u001b[1;33m.\u001b[0m\u001b[0m_apply_operation\u001b[0m\u001b[1;33m(\u001b[0m\u001b[0moperation\u001b[0m\u001b[1;33m)\u001b[0m\u001b[1;33m\u001b[0m\u001b[1;33m\u001b[0m\u001b[0m\n\u001b[0m\u001b[0;32m    111\u001b[0m \u001b[1;33m\u001b[0m\u001b[0m\n\u001b[0;32m    112\u001b[0m         \u001b[1;31m# store the pre-rotated state\u001b[0m\u001b[1;33m\u001b[0m\u001b[1;33m\u001b[0m\u001b[1;33m\u001b[0m\u001b[0m\n",
      "\u001b[1;32m~\\Anaconda3\\envs\\quanta\\lib\\site-packages\\pennylane\\devices\\default_qubit.py\u001b[0m in \u001b[0;36m_apply_operation\u001b[1;34m(self, operation)\u001b[0m\n\u001b[0;32m    133\u001b[0m             \u001b[1;32mreturn\u001b[0m\u001b[1;33m\u001b[0m\u001b[1;33m\u001b[0m\u001b[0m\n\u001b[0;32m    134\u001b[0m \u001b[1;33m\u001b[0m\u001b[0m\n\u001b[1;32m--> 135\u001b[1;33m         \u001b[0mmatrix\u001b[0m \u001b[1;33m=\u001b[0m \u001b[0mself\u001b[0m\u001b[1;33m.\u001b[0m\u001b[0m_get_unitary_matrix\u001b[0m\u001b[1;33m(\u001b[0m\u001b[0moperation\u001b[0m\u001b[1;33m)\u001b[0m\u001b[1;33m\u001b[0m\u001b[1;33m\u001b[0m\u001b[0m\n\u001b[0m\u001b[0;32m    136\u001b[0m \u001b[1;33m\u001b[0m\u001b[0m\n\u001b[0;32m    137\u001b[0m         \u001b[1;32mif\u001b[0m \u001b[0misinstance\u001b[0m\u001b[1;33m(\u001b[0m\u001b[0moperation\u001b[0m\u001b[1;33m,\u001b[0m \u001b[0mDiagonalOperation\u001b[0m\u001b[1;33m)\u001b[0m\u001b[1;33m:\u001b[0m\u001b[1;33m\u001b[0m\u001b[1;33m\u001b[0m\u001b[0m\n",
      "\u001b[1;32m~\\Anaconda3\\envs\\quanta\\lib\\site-packages\\pennylane\\devices\\default_qubit.py\u001b[0m in \u001b[0;36m_get_unitary_matrix\u001b[1;34m(self, unitary)\u001b[0m\n\u001b[0;32m    155\u001b[0m         \"\"\"\n\u001b[0;32m    156\u001b[0m         \u001b[1;32mif\u001b[0m \u001b[0misinstance\u001b[0m\u001b[1;33m(\u001b[0m\u001b[0munitary\u001b[0m\u001b[1;33m,\u001b[0m \u001b[0mDiagonalOperation\u001b[0m\u001b[1;33m)\u001b[0m\u001b[1;33m:\u001b[0m\u001b[1;33m\u001b[0m\u001b[1;33m\u001b[0m\u001b[0m\n\u001b[1;32m--> 157\u001b[1;33m             \u001b[1;32mreturn\u001b[0m \u001b[0munitary\u001b[0m\u001b[1;33m.\u001b[0m\u001b[0meigvals\u001b[0m\u001b[1;33m\u001b[0m\u001b[1;33m\u001b[0m\u001b[0m\n\u001b[0m\u001b[0;32m    158\u001b[0m \u001b[1;33m\u001b[0m\u001b[0m\n\u001b[0;32m    159\u001b[0m         \u001b[1;32mreturn\u001b[0m \u001b[0munitary\u001b[0m\u001b[1;33m.\u001b[0m\u001b[0mmatrix\u001b[0m\u001b[1;33m\u001b[0m\u001b[1;33m\u001b[0m\u001b[0m\n",
      "\u001b[1;32m~\\Anaconda3\\envs\\quanta\\lib\\site-packages\\pennylane\\ops\\qubit.py\u001b[0m in \u001b[0;36meigvals\u001b[1;34m(self)\u001b[0m\n\u001b[0;32m    760\u001b[0m             \u001b[1;32mreturn\u001b[0m \u001b[0mself\u001b[0m\u001b[1;33m.\u001b[0m\u001b[0m_eigvals\u001b[0m\u001b[1;33m(\u001b[0m\u001b[1;33m*\u001b[0m\u001b[0mself\u001b[0m\u001b[1;33m.\u001b[0m\u001b[0mparameters\u001b[0m\u001b[1;33m,\u001b[0m \u001b[0mlen\u001b[0m\u001b[1;33m(\u001b[0m\u001b[0mself\u001b[0m\u001b[1;33m.\u001b[0m\u001b[0mwires\u001b[0m\u001b[1;33m)\u001b[0m\u001b[1;33m)\u001b[0m\u001b[1;33m.\u001b[0m\u001b[0mconj\u001b[0m\u001b[1;33m(\u001b[0m\u001b[1;33m)\u001b[0m\u001b[1;33m\u001b[0m\u001b[1;33m\u001b[0m\u001b[0m\n\u001b[0;32m    761\u001b[0m \u001b[1;33m\u001b[0m\u001b[0m\n\u001b[1;32m--> 762\u001b[1;33m         \u001b[1;32mreturn\u001b[0m \u001b[0mself\u001b[0m\u001b[1;33m.\u001b[0m\u001b[0m_eigvals\u001b[0m\u001b[1;33m(\u001b[0m\u001b[1;33m*\u001b[0m\u001b[0mself\u001b[0m\u001b[1;33m.\u001b[0m\u001b[0mparameters\u001b[0m\u001b[1;33m,\u001b[0m \u001b[0mlen\u001b[0m\u001b[1;33m(\u001b[0m\u001b[0mself\u001b[0m\u001b[1;33m.\u001b[0m\u001b[0mwires\u001b[0m\u001b[1;33m)\u001b[0m\u001b[1;33m)\u001b[0m\u001b[1;33m\u001b[0m\u001b[1;33m\u001b[0m\u001b[0m\n\u001b[0m\u001b[0;32m    763\u001b[0m \u001b[1;33m\u001b[0m\u001b[0m\n\u001b[0;32m    764\u001b[0m     \u001b[1;33m@\u001b[0m\u001b[0mstaticmethod\u001b[0m\u001b[1;33m\u001b[0m\u001b[1;33m\u001b[0m\u001b[0m\n",
      "\u001b[1;32m~\\Anaconda3\\envs\\quanta\\lib\\site-packages\\pennylane\\ops\\qubit.py\u001b[0m in \u001b[0;36m_eigvals\u001b[1;34m(cls, theta, n)\u001b[0m\n\u001b[0;32m    752\u001b[0m     \u001b[1;33m@\u001b[0m\u001b[0mclassmethod\u001b[0m\u001b[1;33m\u001b[0m\u001b[1;33m\u001b[0m\u001b[0m\n\u001b[0;32m    753\u001b[0m     \u001b[1;32mdef\u001b[0m \u001b[0m_eigvals\u001b[0m\u001b[1;33m(\u001b[0m\u001b[0mcls\u001b[0m\u001b[1;33m,\u001b[0m \u001b[0mtheta\u001b[0m\u001b[1;33m,\u001b[0m \u001b[0mn\u001b[0m\u001b[1;33m)\u001b[0m\u001b[1;33m:\u001b[0m\u001b[1;33m\u001b[0m\u001b[1;33m\u001b[0m\u001b[0m\n\u001b[1;32m--> 754\u001b[1;33m         \u001b[1;32mreturn\u001b[0m \u001b[0mnp\u001b[0m\u001b[1;33m.\u001b[0m\u001b[0mexp\u001b[0m\u001b[1;33m(\u001b[0m\u001b[1;33m-\u001b[0m\u001b[1;36m1j\u001b[0m \u001b[1;33m*\u001b[0m \u001b[0mtheta\u001b[0m \u001b[1;33m/\u001b[0m \u001b[1;36m2\u001b[0m \u001b[1;33m*\u001b[0m \u001b[0mpauli_eigs\u001b[0m\u001b[1;33m(\u001b[0m\u001b[0mn\u001b[0m\u001b[1;33m)\u001b[0m\u001b[1;33m)\u001b[0m\u001b[1;33m\u001b[0m\u001b[1;33m\u001b[0m\u001b[0m\n\u001b[0m\u001b[0;32m    755\u001b[0m \u001b[1;33m\u001b[0m\u001b[0m\n\u001b[0;32m    756\u001b[0m     \u001b[1;33m@\u001b[0m\u001b[0mproperty\u001b[0m\u001b[1;33m\u001b[0m\u001b[1;33m\u001b[0m\u001b[0m\n",
      "\u001b[1;31mKeyboardInterrupt\u001b[0m: "
     ]
    }
   ],
   "source": [
    "# Defines the new device\n",
    "\n",
    "qgrnn_dev = qml.device(\"default.qubit\", wires=2 * qubit_number + 1)\n",
    "\n",
    "# Defines the new QNode\n",
    "\n",
    "qnode = qml.QNode(qgrnn, qgrnn_dev)\n",
    "\n",
    "iterations = 0\n",
    "optimizer = qml.AdamOptimizer(stepsize=0.5)\n",
    "steps = 300\n",
    "qgrnn_params = list([np.random.randint(-20, 20)/50 for i in range(0, 10)])\n",
    "init = copy.copy(qgrnn_params)\n",
    "\n",
    "# Executes the optimization method\n",
    "\n",
    "for i in range(0, steps):\n",
    "    qgrnn_params = optimizer.step(cost_function, qgrnn_params)"
   ]
  },
  {
   "cell_type": "code",
   "execution_count": null,
   "metadata": {},
   "outputs": [],
   "source": []
  },
  {
   "cell_type": "markdown",
   "metadata": {},
   "source": [
    "With the learned parameters, we construct a visual representation of the Hamiltonian to which they correspond and compare it to the target Hamiltonian, and the initial guessed Hamiltonian:"
   ]
  },
  {
   "cell_type": "code",
   "execution_count": 60,
   "metadata": {},
   "outputs": [
    {
     "data": {
      "image/png": "[encoded data removed]",
      "text/plain": [
       "<Figure size 720x720 with 3 Axes>"
      ]
     },
     "metadata": {
      "needs_background": "light"
     },
     "output_type": "display_data"
    }
   ],
   "source": [
    "new_ham_matrix = create_hamiltonian_matrix(\n",
    "    qubit_number, nx.complete_graph(qubit_number), [qgrnn_params[0:6], qgrnn_params[6:10]]\n",
    ")\n",
    "\n",
    "init_ham = create_hamiltonian_matrix(\n",
    "    qubit_number, nx.complete_graph(qubit_number), [init[0:6], init[6:10]]\n",
    ")\n",
    "\n",
    "fig, axes = plt.subplots(nrows=1, ncols=3, figsize=(10, 10))\n",
    "\n",
    "axes[0].matshow(ham_matrix, vmin=-7, vmax=7, cmap='hot')\n",
    "axes[0].set_title(\"Target Hamiltonian\", y=1.13)\n",
    "\n",
    "axes[1].matshow(init_ham, vmin=-7, vmax=7, cmap='hot')\n",
    "axes[1].set_title(\"Initial Guessed Hamiltonian\", y=1.13)\n",
    "\n",
    "axes[2].matshow(new_ham_matrix, vmin=-7, vmax=7, cmap='hot')\n",
    "axes[2].set_title(\"Learned Hamiltonian\", y=1.13)\n",
    "\n",
    "plt.subplots_adjust(wspace=0.3, hspace=0.3)\n",
    "plt.show()"
   ]
  },
  {
   "cell_type": "code",
   "execution_count": null,
   "metadata": {},
   "outputs": [],
   "source": []
  },
  {
   "cell_type": "code",
   "execution_count": null,
   "metadata": {},
   "outputs": [],
   "source": []
  },
  {
   "cell_type": "code",
   "execution_count": 61,
   "metadata": {},
   "outputs": [],
   "source": [
    "# and then remove them from the list of target parameters\n",
    "\n",
    "qgrnn_params = list(qgrnn_params)\n",
    "\n",
    "zero_weights = [qgrnn_params[1], qgrnn_params[4]]\n",
    "\n",
    "del qgrnn_params[1]\n",
    "del qgrnn_params[3]"
   ]
  },
  {
   "cell_type": "code",
   "execution_count": 62,
   "metadata": {},
   "outputs": [
    {
     "name": "stdout",
     "output_type": "stream",
     "text": [
      "Target parameters: [0.56, 1.24, 1.67, -0.79, -1.44, -1.43, 1.18, -0.93]\n",
      "Learned parameters: [0.2795935156975342, 1.334580365542125, 1.7004517023732753, -0.6117142387232278, -0.8472803814827449, -1.1954746465526613, 1.0555280598131738, -0.7363234199141969]\n",
      "Non-Existing Edge Parameters: [0.252982970313843, -0.07799628630965101]\n"
     ]
    }
   ],
   "source": [
    "#  print all of the weights\n",
    "\n",
    "target_params = matrix_params[0] + matrix_params[1]\n",
    "\n",
    "print(f\"Target parameters: {target_params}\")\n",
    "print(f\"Learned parameters: {qgrnn_params}\")\n",
    "print(f\"Non-Existing Edge Parameters: {zero_weights}\")"
   ]
  },
  {
   "cell_type": "markdown",
   "metadata": {},
   "source": [
    "# References\n",
    "\n",
    "Verdon, G., McCourt, T., Luzhnica, E., Singh, V., Leichenauer, S., & Hidary, J. (2019). Quantum Graph Neural Networks. arXiv preprint arXiv:1909.12264."
   ]
  },
  {
   "cell_type": "code",
   "execution_count": null,
   "metadata": {},
   "outputs": [],
   "source": []
  }
 ],
 "metadata": {
  "kernelspec": {
   "display_name": "Python 3",
   "language": "python",
   "name": "python3"
  },
  "language_info": {
   "codemirror_mode": {
    "name": "ipython",
    "version": 3
   },
   "file_extension": ".py",
   "mimetype": "text/x-python",
   "name": "python",
   "nbconvert_exporter": "python",
   "pygments_lexer": "ipython3",
   "version": "3.7.7-final"
  }
 },
 "nbformat": 4,
 "nbformat_minor": 4
}